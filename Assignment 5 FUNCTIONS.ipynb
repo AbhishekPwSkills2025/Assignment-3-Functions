{
 "cells": [
  {
   "cell_type": "markdown",
   "id": "0279f844-5977-45ff-b72b-d4609eab36d6",
   "metadata": {},
   "source": [
    "Theory Questions:"
   ]
  },
  {
   "cell_type": "markdown",
   "id": "4dfa2890-de02-4bbf-b5a7-7b27080321d6",
   "metadata": {},
   "source": [
    "1. What is the difference between a function and a method in Python?"
   ]
  },
  {
   "cell_type": "markdown",
   "id": "098c1f8f-19ca-4690-950d-e125c822039c",
   "metadata": {},
   "source": [
    "Ans:- A function is a block of code that performs a specific task and is defined using def.\n",
    "\n",
    "A method is a function that belongs to an object (specifically a class/object)."
   ]
  },
  {
   "cell_type": "code",
   "execution_count": 8,
   "id": "c350a0fb-0de9-46f4-97fd-92fa7c8647e5",
   "metadata": {},
   "outputs": [
    {
     "name": "stdout",
     "output_type": "stream",
     "text": [
      "BOXY\n"
     ]
    }
   ],
   "source": [
    "# Function\n",
    "def greet():\n",
    "    print(\"Hello!\")\n",
    "\n",
    "# Method\n",
    "name = \"Boxy\"\n",
    "print(name.upper())  # upper() is a method"
   ]
  },
  {
   "cell_type": "markdown",
   "id": "999da8c6-729b-453e-a745-8c4ea2bc2edd",
   "metadata": {},
   "source": [
    " Explain the concept of function arguments and parameters in Python."
   ]
  },
  {
   "cell_type": "code",
   "execution_count": null,
   "id": "fab6fea3-795e-42b7-a232-873f743a437b",
   "metadata": {},
   "outputs": [],
   "source": [
    "Parameters are the variables listed inside the function definition.\n",
    "\n",
    "Arguments are the values passed to the function when calling it."
   ]
  },
  {
   "cell_type": "code",
   "execution_count": 22,
   "id": "29b44a46-9eed-4473-bca4-fee8dbb610c1",
   "metadata": {},
   "outputs": [],
   "source": [
    "def add(x, y):  # x and y are parameters\n",
    "    return x + y\n",
    "\n",
    "result = add(2, 3)  # 2 and 3 are arguments"
   ]
  },
  {
   "cell_type": "markdown",
   "id": "e2d47201-1e6c-486e-bd7c-f6ff5c443a8c",
   "metadata": {},
   "source": [
    "3. What are the different ways to define and call a function in Python?"
   ]
  },
  {
   "cell_type": "markdown",
   "id": "87c50aa5-1455-41a5-8840-68410f233c48",
   "metadata": {},
   "source": [
    "Ans:- Different Ways to Define and Call a Function in Python:\n",
    "\n",
    "1- Normal Function:"
   ]
  },
  {
   "cell_type": "code",
   "execution_count": 29,
   "id": "7a3d4c62-88a4-4372-8f13-39bcd4ba8a1f",
   "metadata": {},
   "outputs": [
    {
     "name": "stdout",
     "output_type": "stream",
     "text": [
      "Hello, Alice!\n"
     ]
    }
   ],
   "source": [
    "def greet(name):\n",
    "    print(f\"Hello, {name}!\")\n",
    "\n",
    "greet(\"Alice\")"
   ]
  },
  {
   "cell_type": "markdown",
   "id": "9029e6e4-97ad-4387-be3e-4c3cda85c964",
   "metadata": {},
   "source": [
    "2- Lambda Function:"
   ]
  },
  {
   "cell_type": "code",
   "execution_count": 32,
   "id": "b4f14c5c-7974-4114-9467-490563c767cb",
   "metadata": {},
   "outputs": [
    {
     "name": "stdout",
     "output_type": "stream",
     "text": [
      "25\n"
     ]
    }
   ],
   "source": [
    "square = lambda x: x * x\n",
    "print(square(5))"
   ]
  },
  {
   "cell_type": "markdown",
   "id": "cf5afb5d-50a2-47b3-8ca1-613fc90870dc",
   "metadata": {},
   "source": [
    "3- Built-in Functions (like len()):"
   ]
  },
  {
   "cell_type": "code",
   "execution_count": 35,
   "id": "1daeaee2-ee82-49c5-bea2-284b724dba5d",
   "metadata": {},
   "outputs": [
    {
     "name": "stdout",
     "output_type": "stream",
     "text": [
      "4\n"
     ]
    }
   ],
   "source": [
    "print(len(\"Boxy\"))"
   ]
  },
  {
   "cell_type": "markdown",
   "id": "324e4957-dc2d-43c3-8d7a-1f998b2167af",
   "metadata": {},
   "source": [
    "Que,4 - What is the purpose of the `return` statement in a Python function?"
   ]
  },
  {
   "cell_type": "markdown",
   "id": "c7783639-219b-43cc-a903-25b369eb330d",
   "metadata": {},
   "source": [
    "Ans:- Purpose of the return Statement in a Python Function:\n",
    "\n",
    "return is used to send the result back to the caller and exit the function."
   ]
  },
  {
   "cell_type": "code",
   "execution_count": 39,
   "id": "97016765-7c1b-42cb-b31a-1b33b02895a7",
   "metadata": {},
   "outputs": [
    {
     "name": "stdout",
     "output_type": "stream",
     "text": [
      "20\n"
     ]
    }
   ],
   "source": [
    "def multiply(a, b):\n",
    "    return a * b\n",
    "\n",
    "result = multiply(4, 5)\n",
    "print(result)  # Output: 20"
   ]
  },
  {
   "cell_type": "markdown",
   "id": "be73421a-1050-4466-89a2-38b401f9774b",
   "metadata": {},
   "source": [
    "Que-5 What are iterators in Python and how do they differ from iterables?"
   ]
  },
  {
   "cell_type": "markdown",
   "id": "8d0eb98b-cf50-4a89-9a9b-ff338e4564f7",
   "metadata": {},
   "source": [
    "Ans:- Iterable: An object capable of returning its members one at a time (like lists, strings).\n",
    "\n",
    "Iterator: An object representing a stream of data; it has __next__() method."
   ]
  },
  {
   "cell_type": "code",
   "execution_count": 45,
   "id": "5a8e7af5-4419-4deb-9199-6241dd6bb2e3",
   "metadata": {},
   "outputs": [
    {
     "name": "stdout",
     "output_type": "stream",
     "text": [
      "1\n"
     ]
    }
   ],
   "source": [
    "# Iterable\n",
    "my_list = [1, 2, 3]\n",
    "\n",
    "# Iterator\n",
    "my_iter = iter(my_list)\n",
    "print(next(my_iter))  # 1"
   ]
  },
  {
   "cell_type": "markdown",
   "id": "028138e3-c42f-4b3f-9d89-284deaa8baa6",
   "metadata": {},
   "source": [
    "Que- 6 Explain the concept of generators in Python and how they are defined."
   ]
  },
  {
   "cell_type": "markdown",
   "id": "e15a8cfa-6f31-4f05-8b90-89e497d77e4d",
   "metadata": {},
   "source": [
    "Ans - Generators are functions that return an iterator and generate values lazily (one at a time using yield)."
   ]
  },
  {
   "cell_type": "code",
   "execution_count": 49,
   "id": "395bfc8e-3a8d-41e5-a2f5-9aeed09fee8b",
   "metadata": {},
   "outputs": [
    {
     "name": "stdout",
     "output_type": "stream",
     "text": [
      "3\n",
      "2\n",
      "1\n"
     ]
    }
   ],
   "source": [
    "def countdown(n):\n",
    "    while n > 0:\n",
    "        yield n\n",
    "        n -= 1\n",
    "\n",
    "for i in countdown(3):\n",
    "    print(i)"
   ]
  },
  {
   "cell_type": "markdown",
   "id": "cba40931-e754-4573-a188-af32099a40e6",
   "metadata": {},
   "source": [
    "Que- 7 What are the advantages of using generators over regular functions?"
   ]
  },
  {
   "cell_type": "markdown",
   "id": "18549ea9-8663-49aa-a662-6c5ce5a52c02",
   "metadata": {},
   "source": [
    "Ans - Save memory (generate values on the fly)\n",
    "\n",
    "Useful for large datasets\n",
    "\n",
    "Provide better performance in certain situations\n",
    "\n",
    "Example:\n",
    "Instead of storing all numbers in a list, a generator yields them one by one.\n"
   ]
  },
  {
   "cell_type": "markdown",
   "id": "b991fe32-4339-41f5-9dd6-9755b8619464",
   "metadata": {},
   "source": [
    "Que-8- What is a lambda function in Python and when is it typically used?"
   ]
  },
  {
   "cell_type": "markdown",
   "id": "abc3e532-d14b-4b9d-853b-96f96750ba1d",
   "metadata": {},
   "source": [
    "Ans- Lambda Function in Python and Usage:\n",
    "\n",
    "A lambda function is a small anonymous function defined using the lambda keyword.\n",
    "\n",
    "Typically used for small operations or as an argument to functions like map() or filter()."
   ]
  },
  {
   "cell_type": "code",
   "execution_count": 55,
   "id": "cfad7325-1cd5-4c60-8097-d721f5a8a8ef",
   "metadata": {},
   "outputs": [
    {
     "name": "stdout",
     "output_type": "stream",
     "text": [
      "7\n"
     ]
    }
   ],
   "source": [
    "add = lambda a, b: a + b\n",
    "print(add(3, 4))\n"
   ]
  },
  {
   "cell_type": "markdown",
   "id": "f34af29a-2800-4a09-8e40-416cc0a91cf7",
   "metadata": {},
   "source": [
    "Que- 9 Explain the purpose and usage of the `map()` function in Python."
   ]
  },
  {
   "cell_type": "markdown",
   "id": "3b634459-20b8-4af5-b899-220ed4fa2ee5",
   "metadata": {},
   "source": [
    "Ans- Purpose and Usage of map() in Python:\n",
    "\n",
    "map() applies a function to every item in an iterable (like a list) and returns a map object.\n",
    "\n",
    "Example:"
   ]
  },
  {
   "cell_type": "code",
   "execution_count": 59,
   "id": "6875c427-a994-4e80-9401-357d200a964a",
   "metadata": {},
   "outputs": [
    {
     "name": "stdout",
     "output_type": "stream",
     "text": [
      "[1, 4, 9, 16]\n"
     ]
    }
   ],
   "source": [
    "numbers = [1, 2, 3, 4]\n",
    "squared = map(lambda x: x**2, numbers)\n",
    "print(list(squared))\n"
   ]
  },
  {
   "cell_type": "markdown",
   "id": "2be94387-8fcd-4538-8bf0-c18da76948a8",
   "metadata": {},
   "source": [
    "Que-10 What is the difference between `map()`, `reduce()`, and `filter()` functions in Python?"
   ]
  },
  {
   "cell_type": "markdown",
   "id": "877e5ed7-5c1c-402f-8b0f-a2fc6a9d4ff6",
   "metadata": {},
   "source": [
    "Ans- Difference Between map(), reduce(), and filter() Functions:\n",
    "\n",
    "\n",
    "Function\tPurpose\tExample\n",
    "map()\tApplies a function to each element\tmap(lambda x: x*2, [1,2,3])\n",
    "filter()\tFilters elements based on a condition\tfilter(lambda x: x>2, [1,2,3])\n",
    "reduce()\tReduces a list to a single value\treduce(lambda x, y: x+y, [1,2,3])\n",
    "Example of reduce():"
   ]
  },
  {
   "cell_type": "code",
   "execution_count": 64,
   "id": "d1625f83-76e8-4283-bacf-42ccf4ec2bde",
   "metadata": {},
   "outputs": [
    {
     "name": "stdout",
     "output_type": "stream",
     "text": [
      "10\n"
     ]
    }
   ],
   "source": [
    "from functools import reduce\n",
    "\n",
    "nums = [1, 2, 3, 4]\n",
    "result = reduce(lambda x, y: x + y, nums)\n",
    "print(result)  # Output: 10\n"
   ]
  },
  {
   "cell_type": "markdown",
   "id": "2454e004-8ede-4b4a-a2bd-a97bdc30d233",
   "metadata": {},
   "source": [
    "Que-11 Using pen & Paper write the internal mechanism for sum operation using  reduce function on this given\n",
    "list:[47,11,42,13]; "
   ]
  },
  {
   "cell_type": "markdown",
   "id": "ea3c49ce-64b1-4ce9-91e0-d85be476fa0d",
   "metadata": {},
   "source": [
    "Ans- Internal Mechanism of reduce() on [47, 11, 42, 13]:\n",
    "\n",
    "The reduce() function applies the operation (like addition) pair by pair from left to right.\n",
    "\n",
    "It keeps combining two elements at a time to produce a single cumulative result.\n",
    "\n",
    "Step-by-Step:\n",
    "\n",
    "Start with the first two elements:\n",
    "47 + 11 = 58\n",
    "\n",
    "Take the result (58) and add the next element (42):\n",
    "58 + 42 = 100\n",
    "\n",
    "Take the result (100) and add the next element (13):\n",
    "100 + 13 = 113\n",
    "\n",
    "Final Output: 113\n"
   ]
  },
  {
   "cell_type": "code",
   "execution_count": 70,
   "id": "3359945c-13dc-4bc1-a24d-15ce0d975afb",
   "metadata": {},
   "outputs": [
    {
     "name": "stdout",
     "output_type": "stream",
     "text": [
      "113\n"
     ]
    }
   ],
   "source": [
    "from functools import reduce\n",
    "\n",
    "numbers = [47, 11, 42, 13]\n",
    "result = reduce(lambda x, y: x + y, numbers)\n",
    "print(result)  # Output: 113\n"
   ]
  },
  {
   "cell_type": "markdown",
   "id": "0c101725-fad7-49a2-8c37-e419ac12ea7d",
   "metadata": {},
   "source": [
    "Practical Questions:"
   ]
  },
  {
   "cell_type": "markdown",
   "id": "8205b90c-d8a5-4d16-aba1-79b733cb0ae0",
   "metadata": {},
   "source": [
    "Que-1 Write a Python function that takes a list of numbers as input and returns the sum of all even numbers in\n",
    "the list."
   ]
  },
  {
   "cell_type": "code",
   "execution_count": 76,
   "id": "2e82628c-bf02-4d2d-b115-6582997b09e4",
   "metadata": {},
   "outputs": [
    {
     "name": "stdout",
     "output_type": "stream",
     "text": [
      "12\n"
     ]
    }
   ],
   "source": [
    "def sum_even_numbers(numbers):\n",
    "    return sum(num for num in numbers if num % 2 == 0)\n",
    "\n",
    "# Example:\n",
    "print(sum_even_numbers([1, 2, 3, 4, 5, 6]))  # Output: 12\n"
   ]
  },
  {
   "cell_type": "markdown",
   "id": "c5a7ffd8-b0c0-4778-a2b5-5cb169799b31",
   "metadata": {},
   "source": [
    "Que-2 Create a Python function that accepts a string and returns the reverse of that string.?"
   ]
  },
  {
   "cell_type": "markdown",
   "id": "78d20bbe-aac6-4e01-9f00-c2359fefe160",
   "metadata": {},
   "source": [
    "Ans- Function to reverse a string:"
   ]
  },
  {
   "cell_type": "code",
   "execution_count": 80,
   "id": "bf72bb2f-588e-4efc-b6fd-42ea76e1d5cc",
   "metadata": {},
   "outputs": [
    {
     "name": "stdout",
     "output_type": "stream",
     "text": [
      "yxoB\n"
     ]
    }
   ],
   "source": [
    "def reverse_string(s):\n",
    "    return s[::-1]\n",
    "\n",
    "# Example:\n",
    "print(reverse_string(\"Boxy\"))  # Output: yxoB\n"
   ]
  },
  {
   "cell_type": "markdown",
   "id": "28ee32b8-21e9-48c9-8314-c0ff019129af",
   "metadata": {},
   "source": [
    "Que-3 Implement a Python function that takes a list of integers and returns a new list containing the squares of\n",
    "each number."
   ]
  },
  {
   "cell_type": "markdown",
   "id": "feae3e67-5ff4-42d1-8a06-21c5e4fcdae7",
   "metadata": {},
   "source": [
    "Ans- Function to return squares of each number:\n",
    "python\n",
    "Copy\n",
    "Edit\n"
   ]
  },
  {
   "cell_type": "code",
   "execution_count": 84,
   "id": "80f61d33-b359-4d98-b534-fef4e12ce96b",
   "metadata": {},
   "outputs": [
    {
     "name": "stdout",
     "output_type": "stream",
     "text": [
      "[1, 4, 9, 16]\n"
     ]
    }
   ],
   "source": [
    "def square_numbers(lst):\n",
    "    return [x**2 for x in lst]\n",
    "\n",
    "# Example:\n",
    "print(square_numbers([1, 2, 3, 4]))  # Output: [1, 4, 9, 16]\n"
   ]
  },
  {
   "cell_type": "markdown",
   "id": "a596971a-877c-45ff-b3a9-0449d6777f80",
   "metadata": {},
   "source": [
    "Que-4  Write a Python function that checks if a given number is prime or not from 1 to 200."
   ]
  },
  {
   "cell_type": "markdown",
   "id": "4e5df341-a820-4241-8865-c68e078c0643",
   "metadata": {},
   "source": [
    "Ans- Function to check if numbers from 1 to 200 are prime:\n",
    "Example below"
   ]
  },
  {
   "cell_type": "code",
   "execution_count": 89,
   "id": "929763f9-7719-439b-b5ba-f966efd945b8",
   "metadata": {},
   "outputs": [
    {
     "name": "stdout",
     "output_type": "stream",
     "text": [
      "[2, 3, 5, 7, 11, 13, 17, 19, 23, 29, 31, 37, 41, 43, 47, 53, 59, 61, 67, 71, 73, 79, 83, 89, 97, 101, 103, 107, 109, 113, 127, 131, 137, 139, 149, 151, 157, 163, 167, 173, 179, 181, 191, 193, 197, 199]\n"
     ]
    }
   ],
   "source": [
    "def is_prime(n):\n",
    "    if n <= 1:\n",
    "        return False\n",
    "    for i in range(2, int(n**0.5) + 1):\n",
    "        if n % i == 0:\n",
    "            return False\n",
    "    return True\n",
    "\n",
    "# Example: Print all prime numbers between 1 and 200\n",
    "primes = [i for i in range(1, 201) if is_prime(i)]\n",
    "print(primes)\n"
   ]
  },
  {
   "cell_type": "markdown",
   "id": "fa43c45d-b1d2-4416-a79b-a9add1456ea8",
   "metadata": {},
   "source": [
    "Que- 5  Create an iterator class in Python that generates the Fibonacci sequence up to a specified number of\n",
    "terms."
   ]
  },
  {
   "cell_type": "markdown",
   "id": "7dc2749e-d6c3-4174-b4f9-edd84b3f2119",
   "metadata": {},
   "source": [
    "Ans- terator class that generates Fibonacci sequence:\n",
    "python\n",
    "Copy\n",
    "Edit\n",
    "\n",
    "Example;"
   ]
  },
  {
   "cell_type": "code",
   "execution_count": 94,
   "id": "8feddd4c-0949-409b-9dfe-3e5c4ce822c6",
   "metadata": {},
   "outputs": [
    {
     "name": "stdout",
     "output_type": "stream",
     "text": [
      "0\n",
      "1\n",
      "1\n",
      "2\n",
      "3\n",
      "5\n",
      "8\n"
     ]
    }
   ],
   "source": [
    "class FibonacciIterator:\n",
    "    def __init__(self, max_terms):\n",
    "        self.max_terms = max_terms\n",
    "        self.n1, self.n2 = 0, 1\n",
    "        self.count = 0\n",
    "\n",
    "    def __iter__(self):\n",
    "        return self\n",
    "\n",
    "    def __next__(self):\n",
    "        if self.count < self.max_terms:\n",
    "            result = self.n1\n",
    "            self.n1, self.n2 = self.n2, self.n1 + self.n2\n",
    "            self.count += 1\n",
    "            return result\n",
    "        else:\n",
    "            raise StopIteration\n",
    "\n",
    "# Example:\n",
    "for num in FibonacciIterator(7):\n",
    "    print(num)\n"
   ]
  },
  {
   "cell_type": "markdown",
   "id": "9df372d2-b740-42e4-9165-0227b4fe0ae3",
   "metadata": {},
   "source": [
    "Que- 6 Write a generator function in Python that yields the powers of 2 up to a given exponent."
   ]
  },
  {
   "cell_type": "markdown",
   "id": "da63a0dd-27de-47d9-be8e-7b9b9066874a",
   "metadata": {},
   "source": [
    "Ans- Generator function that yields powers of 2:\n",
    "\n",
    "Example"
   ]
  },
  {
   "cell_type": "code",
   "execution_count": 98,
   "id": "36a079e4-0c17-4a4e-9bfd-ebdaf9eb6785",
   "metadata": {},
   "outputs": [
    {
     "name": "stdout",
     "output_type": "stream",
     "text": [
      "1\n",
      "2\n",
      "4\n",
      "8\n",
      "16\n",
      "32\n"
     ]
    }
   ],
   "source": [
    "def powers_of_two(max_exponent):\n",
    "    for i in range(max_exponent + 1):\n",
    "        yield 2 ** i\n",
    "\n",
    "# Example:\n",
    "for power in powers_of_two(5):\n",
    "    print(power)\n"
   ]
  },
  {
   "cell_type": "markdown",
   "id": "71abd60f-8484-4e33-b7e8-15d04169542f",
   "metadata": {},
   "source": [
    "Que- 7  Implement a generator function that reads a file line by line and yields each line as a string."
   ]
  },
  {
   "cell_type": "code",
   "execution_count": 107,
   "id": "0e78eb92-34bf-4d77-8402-82ef4229ca11",
   "metadata": {},
   "outputs": [],
   "source": [
    "def read_file_line_by_line(filename):\n",
    "    with open(filename, 'r') as file:\n",
    "        for line in file:\n",
    "            yield line.strip()\n",
    "\n",
    "# Example:\n",
    "# for line in read_file_line_by_line('test.txt'):\n",
    "#     print(line)\n"
   ]
  },
  {
   "cell_type": "markdown",
   "id": "e95fb9c3-fd03-4632-a440-78d76af73656",
   "metadata": {},
   "source": [
    "Que- 8  Use a lambda function in Python to sort a list of tuples based on the second element of each tuple."
   ]
  },
  {
   "cell_type": "code",
   "execution_count": 110,
   "id": "19263413-6294-4958-93dd-0d03a80b95b3",
   "metadata": {},
   "outputs": [
    {
     "name": "stdout",
     "output_type": "stream",
     "text": [
      "[(4, 1), (2, 2), (1, 3)]\n"
     ]
    }
   ],
   "source": [
    "tuples_list = [(1, 3), (2, 2), (4, 1)]\n",
    "sorted_list = sorted(tuples_list, key=lambda x: x[1])\n",
    "print(sorted_list)  # Output: [(4, 1), (2, 2), (1, 3)]\n"
   ]
  },
  {
   "cell_type": "markdown",
   "id": "f93855f6-6705-4a01-bd4d-2b2c00cf9f2d",
   "metadata": {},
   "source": [
    "Que-9  Write a Python program that uses `map()` to convert a list of temperatures from Celsius to Fahrenheit."
   ]
  },
  {
   "cell_type": "code",
   "execution_count": 113,
   "id": "04b988dc-e0cd-4242-9790-37cde7c825e2",
   "metadata": {},
   "outputs": [
    {
     "name": "stdout",
     "output_type": "stream",
     "text": [
      "[32.0, 68.0, 98.6, 212.0]\n"
     ]
    }
   ],
   "source": [
    "celsius = [0, 20, 37, 100]\n",
    "fahrenheit = list(map(lambda c: (c * 9/5) + 32, celsius))\n",
    "print(fahrenheit)  # Output: [32.0, 68.0, 98.6, 212.0]\n"
   ]
  },
  {
   "cell_type": "markdown",
   "id": "8ba1e6d4-e73c-4992-b5d6-05caa3b5eb27",
   "metadata": {},
   "source": [
    "Que-10 Create a Python program that uses `filter()` to remove all the vowels from a given string."
   ]
  },
  {
   "cell_type": "code",
   "execution_count": 116,
   "id": "ac55be0e-bc19-450d-a9eb-0d483fb82f0d",
   "metadata": {},
   "outputs": [
    {
     "name": "stdout",
     "output_type": "stream",
     "text": [
      "Bxy s wsm!\n"
     ]
    }
   ],
   "source": [
    "def remove_vowels(s):\n",
    "    vowels = 'aeiouAEIOU'\n",
    "    return ''.join(filter(lambda char: char not in vowels, s))\n",
    "\n",
    "# Example:\n",
    "print(remove_vowels(\"Boxy is awesome!\"))  # Output: \"Bxy s wsm!\"\n"
   ]
  },
  {
   "cell_type": "markdown",
   "id": "093c40d2-720b-44b3-afaa-3265fdb5b9d6",
   "metadata": {},
   "source": [
    "Que-11  Imagine an accounting routine used in a book shop. It works on a list with sublists, which look like this:"
   ]
  },
  {
   "cell_type": "markdown",
   "id": "996846cb-c31e-4d63-932b-7f7f735b2a9e",
   "metadata": {},
   "source": [
    "Order Number | Book Title and Author | Quantity | Price per Item\n",
    "34587 | Learning Python, Mark Lutz | 4 | 40.95\n",
    "98762 | Programming Python, Mark Lutz | 5 | 56.80\n",
    "77226 | Head First Python, Paul Barry | 3 | 32.95\n",
    "88112 | Einführung in Python3, Bernd Klein | 3 | 24.99"
   ]
  },
  {
   "cell_type": "markdown",
   "id": "2877e822-9317-48ba-a865-20b46c7aadbc",
   "metadata": {},
   "source": [
    "Ans- "
   ]
  },
  {
   "cell_type": "code",
   "execution_count": 121,
   "id": "8f86c2af-0028-4d82-8e98-d34bec3ca24c",
   "metadata": {},
   "outputs": [
    {
     "name": "stdout",
     "output_type": "stream",
     "text": [
      "[(34587, 163.8), (98762, 284.0), (77226, 108.85), (88112, 84.97)]\n"
     ]
    }
   ],
   "source": [
    "# Book Orders\n",
    "orders = [\n",
    "    [34587, \"Learning Python, Mark Lutz\", 4, 40.95],\n",
    "    [98762, \"Programming Python, Mark Lutz\", 5, 56.80],\n",
    "    [77226, \"Head First Python, Paul Barry\", 3, 32.95],\n",
    "    [88112, \"Einführung in Python3, Bernd Klein\", 3, 24.99]\n",
    "]\n",
    "\n",
    "# Create Invoice\n",
    "invoice = list(\n",
    "    map(lambda order: (\n",
    "        order[0],\n",
    "        round(order[2] * order[3], 2) if order[2] * order[3] >= 100 else round(order[2] * order[3] + 10, 2)\n",
    "    ), orders)\n",
    ")\n",
    "\n",
    "# Print Result\n",
    "print(invoice)\n"
   ]
  },
  {
   "cell_type": "code",
   "execution_count": null,
   "id": "ec058b3a-7967-421e-8c1a-0e0143661e8e",
   "metadata": {},
   "outputs": [],
   "source": []
  }
 ],
 "metadata": {
  "kernelspec": {
   "display_name": "Python [conda env:base] *",
   "language": "python",
   "name": "conda-base-py"
  },
  "language_info": {
   "codemirror_mode": {
    "name": "ipython",
    "version": 3
   },
   "file_extension": ".py",
   "mimetype": "text/x-python",
   "name": "python",
   "nbconvert_exporter": "python",
   "pygments_lexer": "ipython3",
   "version": "3.12.7"
  }
 },
 "nbformat": 4,
 "nbformat_minor": 5
}
